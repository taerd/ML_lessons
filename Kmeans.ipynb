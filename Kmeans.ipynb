{
  "nbformat": 4,
  "nbformat_minor": 5,
  "metadata": {
    "kernelspec": {
      "display_name": "Python 3 (ipykernel)",
      "language": "python",
      "name": "python3"
    },
    "language_info": {
      "codemirror_mode": {
        "name": "ipython",
        "version": 3
      },
      "file_extension": ".py",
      "mimetype": "text/x-python",
      "name": "python",
      "nbconvert_exporter": "python",
      "pygments_lexer": "ipython3",
      "version": "3.9.6"
    },
    "colab": {
      "name": "Kmeans.ipynb",
      "provenance": [],
      "include_colab_link": true
    }
  },
  "cells": [
    {
      "cell_type": "markdown",
      "metadata": {
        "id": "view-in-github",
        "colab_type": "text"
      },
      "source": [
        "<a href=\"https://colab.research.google.com/github/taerd/ML_lessons/blob/main/Kmeans.ipynb\" target=\"_parent\"><img src=\"https://colab.research.google.com/assets/colab-badge.svg\" alt=\"Open In Colab\"/></a>"
      ]
    },
    {
      "cell_type": "code",
      "metadata": {
        "id": "5f01dff2"
      },
      "source": [
        "import numpy as np\n",
        "import matplotlib.pyplot as plt\n",
        "%matplotlib inline"
      ],
      "id": "5f01dff2",
      "execution_count": null,
      "outputs": []
    },
    {
      "cell_type": "code",
      "metadata": {
        "id": "00f047f0"
      },
      "source": [
        "class K_Means():\n",
        "    #конструктор\n",
        "    def __init__(self, dataset, n_clusters = 3,metric=1): #3 кластера по умолчанию, метрика = 1\n",
        "        self.dataset = dataset\n",
        "        self.n_clusters = n_clusters\n",
        "        self.metric = metric\n",
        "        #массив координат центров кластеров\n",
        "        # вложенный список\n",
        "        # в качестве центра рандомные элементы из dataset\n",
        "        self.centroids = np.array([self.dataset[np.random.randint(0,len(dataset))] for k in range(self.n_clusters)],dtype = 'f')\n",
        "        # индекс кластера к которому соотносится точка ,integer\n",
        "        self.labels = np.array([],dtype = 'i')\n",
        "        self.fitted = False\n",
        "        # количетсво итераций для центров кластеров\n",
        "        self.max_n_iter = 100\n",
        "        # эпсилон смещения чтобы алгоритм останавливался\n",
        "        min=dataset[:,0].max()-dataset[:,0].min()\n",
        "        for param in range (1,dataset.shape[1]):\n",
        "            if min > (dataset[:,param].max()-dataset[:,param].min()):\n",
        "                min = dataset[:,param].max()-dataset[:,param].min()\n",
        "        self.tolerance = min/10000\n",
        "    \n",
        "    \n",
        "    def get_dist(self,list1,list2):\n",
        "        # zip передают два массива и он извлекает пары элементов из обоих массивов\n",
        "        if (self.metric == 1):\n",
        "            return np.sqrt(sum((i-j)**2 for i,j in zip(list1,list2)))\n",
        "        elif (self.metric == 2):\n",
        "            return sum((i-j)**2 for i,j in zip(list1,list2))\n",
        "        elif (self.metric == 3):\n",
        "            return sum(np.abs(i-j) for i,j in zip(list1,list2))\n",
        "        else:\n",
        "            return max(np.abs(i-j) for i,j in zip(list1,list2))\n",
        "\n",
        "    \n",
        "    def get_euclidean_dist(self,list1,list2):\n",
        "        return np.sqrt(sum((i-j)**2 for i,j in zip(list1,list2)))\n",
        "    \n",
        "    def get_square_euclidean_dist(self,list1,list2):\n",
        "        return sum((i-j)**2 for i,j in zip(list1,list2))\n",
        "    \n",
        "    def get_manhattan_dist(self,list1,list2):\n",
        "        return sum(np.abs(i-j) for i,j in zip(list1,list2))\n",
        "    \n",
        "    def get_chebyshev_dist(self,list1,list2):\n",
        "        return max(np.abs(i-j) for i,j in zip(list1,list2))\n",
        "    \n",
        "    def get_power_law_dist(self,list1,list2,p,r):\n",
        "        return sum((np.abs(i-j))**p for i,j in zip(list1,list2))**1./r\n",
        "        \n",
        "    \n",
        "    # распределение данных по кластеру\n",
        "    def  distribute_data(self): \n",
        "        self.labels=np.array([],dtype='i')\n",
        "        for data in self.dataset:\n",
        "            # перебор координатов центров\n",
        "            # вывод индекса кластера для которого меньшее растояние\n",
        "            #print(np.array([self.get_dist(data,center) for center in self.centroids]).argmin())\n",
        "            self.labels = np.append(self.labels,\\\n",
        "                                  np.array([self.get_dist(data,center) \\\n",
        "                                            for center in self.centroids]).argmin() )\n",
        "        \n",
        "    def  recalculate_centroids(self):\n",
        "        for i in range(self.n_clusters):\n",
        "            num = 0\n",
        "            temp = np.zeros(self.dataset[0].shape)\n",
        "            # нумерация меток лейблс\n",
        "            for k, label in enumerate(self.labels):\n",
        "                if label == i:\n",
        "                    temp+= self.dataset[k]\n",
        "                    num+=1\n",
        "            self.centroids[i] = temp/num\n",
        "            \n",
        "        \n",
        "    def fit(self):\n",
        "        iter = 0\n",
        "        while iter < self.max_n_iter:\n",
        "            prev_centroids = self.centroids.copy()\n",
        "            self.distribute_data()\n",
        "            self.recalculate_centroids()\n",
        "            if np.array([self.get_dist(i,j) for i,j in zip(prev_centroids,self.centroids)]).max()\\\n",
        "            < self.tolerance:\n",
        "                print(iter)\n",
        "                break\n",
        "            iter += 1\n",
        "        self.fitted = True\n",
        "        \n",
        "    def get_labels(self):\n",
        "        return self.labels\n",
        "    \n",
        "    def get_centers(self):\n",
        "        return self.centroids\n",
        "        \n",
        "    def predict(self, list2d):\n",
        "        if self.fitted == True:\n",
        "            labels=np.array([],dtype='i')\n",
        "            for data in list2d:\n",
        "                labels = np.append(labels,\\\n",
        "                                  np.array([self.get_dist(data,center) \\\n",
        "                                            for center in self.centroids]).argmin() )\n",
        "            return labels\n",
        "                "
      ],
      "id": "00f047f0",
      "execution_count": null,
      "outputs": []
    },
    {
      "cell_type": "code",
      "metadata": {
        "id": "2802308b"
      },
      "source": [
        ""
      ],
      "id": "2802308b",
      "execution_count": null,
      "outputs": []
    },
    {
      "cell_type": "code",
      "metadata": {
        "id": "0e272648",
        "outputId": "f15f245b-28b5-4389-8689-7d8aa9cc099a"
      },
      "source": [
        "X = np.array([[1, 2], [1, 4], [1, 0],[10, 2], [10, 4], [10, 0]])\n",
        "\n",
        "kmeans = K_Means(dataset = X, n_clusters=2,metric = 1)\n",
        "\n",
        "kmeans.fit()\n",
        "print(kmeans.get_labels())\n",
        "print(kmeans.get_centers())"
      ],
      "id": "0e272648",
      "execution_count": null,
      "outputs": [
        {
          "name": "stdout",
          "output_type": "stream",
          "text": [
            "1\n",
            "[0 0 0 1 1 1]\n",
            "[[ 1.  2.]\n",
            " [10.  2.]]\n"
          ]
        }
      ]
    },
    {
      "cell_type": "code",
      "metadata": {
        "id": "21848605"
      },
      "source": [
        "X1 = [1,0]\n",
        "X2 = [0,2]\n",
        "X3 = [[0,0],[12,3]]"
      ],
      "id": "21848605",
      "execution_count": null,
      "outputs": []
    },
    {
      "cell_type": "code",
      "metadata": {
        "id": "d0c8ccb0",
        "outputId": "9b9809b5-5db6-4d31-8a7b-8ddd2ad0efc3"
      },
      "source": [
        "len(X3)"
      ],
      "id": "d0c8ccb0",
      "execution_count": null,
      "outputs": [
        {
          "data": {
            "text/plain": [
              "2"
            ]
          },
          "execution_count": 4,
          "metadata": {},
          "output_type": "execute_result"
        }
      ]
    },
    {
      "cell_type": "code",
      "metadata": {
        "id": "2f402226",
        "outputId": "d3e3ea02-281b-461e-8721-447f523fc38b"
      },
      "source": [
        "print(kmeans.get_euclidean_dist(X1,X2))\n",
        "print(kmeans.get_square_euclidean_dist(X1,X2))\n",
        "print(kmeans.get_manhattan_dist(X1,X2))\n",
        "print(kmeans.get_chebyshev_dist(X1,X2))\n",
        "print(kmeans.get_power_law_dist(X1,X2,2,4))\n",
        "print(\"------\")\n",
        "print(kmeans.get_dist(X1,X2))\n",
        "print(kmeans.predict(X3))\n",
        "\n",
        "plt.scatter(X[:,0],X[:,1],c=kmeans.labels,cmap=plt.cm.Paired)\n",
        "plt.scatter(kmeans.centroids[:,0],kmeans.centroids[:,1],c='black',marker='+')\n",
        "plt.show()"
      ],
      "id": "2f402226",
      "execution_count": null,
      "outputs": [
        {
          "name": "stdout",
          "output_type": "stream",
          "text": [
            "2.23606797749979\n",
            "5\n",
            "3\n",
            "2\n",
            "1.25\n",
            "------\n",
            "2.23606797749979\n",
            "[0 1]\n"
          ]
        },
        {
          "data": {
            "image/png": "[encoded data removed]",
            "text/plain": [
              "<Figure size 432x288 with 1 Axes>"
            ]
          },
          "metadata": {
            "needs_background": "light"
          },
          "output_type": "display_data"
        }
      ]
    },
    {
      "cell_type": "code",
      "metadata": {
        "id": "706b7b82"
      },
      "source": [
        "from sklearn.datasets import load_iris\n",
        "X = load_iris().data"
      ],
      "id": "706b7b82",
      "execution_count": null,
      "outputs": []
    },
    {
      "cell_type": "code",
      "metadata": {
        "id": "b2a29693",
        "outputId": "6bff2417-c044-44ba-e195-986832381e21"
      },
      "source": [
        "kmeans = K_Means(dataset = X[0:130,:], n_clusters=3,metric = 1)\n",
        "\n",
        "kmeans.fit()\n",
        "print(kmeans.get_labels())\n",
        "print(kmeans.get_centers())"
      ],
      "id": "b2a29693",
      "execution_count": null,
      "outputs": [
        {
          "name": "stdout",
          "output_type": "stream",
          "text": [
            "12\n",
            "[0 0 0 0 0 0 0 0 0 0 0 0 0 0 0 0 0 0 0 0 0 0 0 0 0 0 0 0 0 0 0 0 0 0 0 0 0\n",
            " 0 0 0 0 0 0 0 0 0 0 0 0 0 1 2 1 2 2 2 2 2 2 2 2 2 2 2 2 2 2 2 2 2 2 2 2 2\n",
            " 2 2 2 1 2 2 2 2 2 2 2 2 2 2 2 2 2 2 2 2 2 2 2 2 2 2 1 2 1 1 1 1 2 1 1 1 1\n",
            " 1 1 2 2 1 1 1 1 2 1 2 1 2 1 1 2 2 1 1]\n",
            "[[5.006     3.428     1.462     0.246    ]\n",
            " [6.9041667 3.0541666 5.7708335 1.9958333]\n",
            " [5.867857  2.7357142 4.332143  1.4035715]]\n"
          ]
        }
      ]
    },
    {
      "cell_type": "code",
      "metadata": {
        "id": "f44cf7db",
        "outputId": "80315067-90e4-4e09-a81b-1e1ba1332893"
      },
      "source": [
        "print(kmeans.predict(X[130:150,:]))"
      ],
      "id": "f44cf7db",
      "execution_count": null,
      "outputs": [
        {
          "name": "stdout",
          "output_type": "stream",
          "text": [
            "[1 1 1 2 1 1 1 1 2 1 1 1 2 1 1 1 2 1 1 2]\n"
          ]
        }
      ]
    },
    {
      "cell_type": "code",
      "metadata": {
        "id": "5bf27d88",
        "outputId": "f0ee1777-8668-45c2-ca5e-3cc2ff7d4924"
      },
      "source": [
        "from sklearn.cluster import KMeans\n",
        "kmeans = KMeans(3)\n",
        "kmeans.fit(X[0:130,:])\n",
        "kmeans.predict(X[130:150,:])"
      ],
      "id": "5bf27d88",
      "execution_count": null,
      "outputs": [
        {
          "data": {
            "text/plain": [
              "array([1, 1, 1, 2, 1, 1, 1, 1, 2, 1, 1, 1, 2, 1, 1, 1, 2, 1, 1, 2])"
            ]
          },
          "execution_count": 17,
          "metadata": {},
          "output_type": "execute_result"
        }
      ]
    }
  ]
}