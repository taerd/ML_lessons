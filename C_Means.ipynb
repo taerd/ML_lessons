{
  "cells": [
    {
      "cell_type": "markdown",
      "metadata": {
        "id": "view-in-github",
        "colab_type": "text"
      },
      "source": [
        "<a href=\"https://colab.research.google.com/github/taerd/ML_lessons/blob/main/C_Means.ipynb\" target=\"_parent\"><img src=\"https://colab.research.google.com/assets/colab-badge.svg\" alt=\"Open In Colab\"/></a>"
      ]
    },
    {
      "cell_type": "code",
      "execution_count": null,
      "id": "392b2d0e",
      "metadata": {
        "id": "392b2d0e",
        "outputId": "1cc7673c-59c6-4ace-b098-59ba2401818f"
      },
      "outputs": [
        {
          "name": "stdout",
          "output_type": "stream",
          "text": [
            "pygame 2.0.1 (SDL 2.0.14, Python 3.9.6)\n",
            "Hello from the pygame community. https://www.pygame.org/contribute.html\n"
          ]
        }
      ],
      "source": [
        "import pygame\n",
        "import numpy as np\n",
        "import matplotlib.pyplot as plt\n",
        "%matplotlib inline"
      ]
    },
    {
      "cell_type": "code",
      "execution_count": null,
      "id": "3f107c8f",
      "metadata": {
        "id": "3f107c8f"
      },
      "outputs": [],
      "source": [
        "c_radius = 2\n",
        "c_color = (0,0,255)\n",
        "c_thickness = 0 \n",
        "\n",
        "bg_color = (255,255,255)\n",
        "(width,height) = (640,480)"
      ]
    },
    {
      "cell_type": "code",
      "execution_count": null,
      "id": "8105170d",
      "metadata": {
        "id": "8105170d"
      },
      "outputs": [],
      "source": [
        "# преобразование координат\n",
        "def to_matplotlib(coords,height):\n",
        "    return(coords[0],height - coords[1])"
      ]
    },
    {
      "cell_type": "code",
      "execution_count": null,
      "id": "b87f9df5",
      "metadata": {
        "id": "b87f9df5"
      },
      "outputs": [],
      "source": [
        "# рисовка и обработка событий pygame\n",
        "points = np.empty((0,2), dtype='int')\n",
        "\n",
        "screen = pygame.display.set_mode((width,height))\n",
        "pygame.display.set_caption(\"#3\")\n",
        "\n",
        "running = True\n",
        "pushing = False\n",
        "while running:\n",
        "    for event in pygame.event.get():\n",
        "        if event.type == pygame.QUIT:\n",
        "            running = False\n",
        "        elif event.type == pygame.MOUSEBUTTONDOWN:\n",
        "            pushing = True\n",
        "        elif event.type == pygame.MOUSEBUTTONUP:\n",
        "            pushing = False\n",
        "            \n",
        "    if pushing:\n",
        "        (x, y) = pygame.mouse.get_pos()\n",
        "        r = np.random.uniform(3, 30)\n",
        "        t = np.random.uniform(0, 2*np.pi)\n",
        "        coord = [int(x+r*np.cos(t)), int(y+r*np.sin(t))]\n",
        "        global points\n",
        "        points = np.append(points, [coord], axis=0)\n",
        "            \n",
        "    screen.fill(bg_color)\n",
        "    for point in points:\n",
        "        pygame.draw.circle(screen,c_color,(int(point[0]),int(point[1])),c_radius,c_thickness)\n",
        "    pygame.display.flip()\n",
        "    \n",
        "pygame.quit()"
      ]
    },
    {
      "cell_type": "code",
      "execution_count": null,
      "id": "1efcb0c2",
      "metadata": {
        "id": "1efcb0c2",
        "outputId": "e171479d-3891-49e8-ab6c-8ebea3b37b0f"
      },
      "outputs": [
        {
          "data": {
            "image/png": "[encoded data removed]",
            "text/plain": [
              "<Figure size 768x576 with 1 Axes>"
            ]
          },
          "metadata": {
            "needs_background": "light"
          },
          "output_type": "display_data"
        }
      ],
      "source": [
        "# original art\n",
        "points_matplot =  np.empty((0,2), dtype='int')\n",
        "\n",
        "# перевод координат из pygame в matplotlib\n",
        "for k in range(len(points)):\n",
        "    new_array = np.ndarray((1,2),buffer = np.array(to_matplotlib(points[k],height)),dtype = int)\n",
        "    points_matplot = np.append(points_matplot,new_array,axis=0)\n",
        "\n",
        "fig = plt.figure(figsize=(width/60,height/60))\n",
        "plt.scatter(points_matplot[:,0],points_matplot[:,1],c=\"blue\")\n",
        "plt.show()\n",
        "points = points_matplot"
      ]
    },
    {
      "cell_type": "code",
      "execution_count": null,
      "id": "c7dea154",
      "metadata": {
        "id": "c7dea154"
      },
      "outputs": [],
      "source": [
        "class C_Means():\n",
        "   \n",
        "    def __init__(self, dataset, n_clusters=3, fuzzy=2, cut=.9):\n",
        "        self.dataset = dataset\n",
        "        self.n_clusters = n_clusters\n",
        "        self.fuzzy = fuzzy\n",
        "        self.cut = cut\n",
        "        self.max_n_iter = 100\n",
        "        self.tolerance = 1e-2\n",
        "        self.fitted = False\n",
        "        self.labels = np.array([], dtype='i')\n",
        "        self.centroids = self.dataset[np.random.choice(self.dataset.shape[0], size=self.n_clusters, replace=False)] + 1\n",
        "        self.U = np.array([], dtype='f')\n",
        "     \n",
        "    # Метод для измерения расстояния между двумя объектами\n",
        "    def get_dist(self, list1, list2):\n",
        "        return np.sqrt(sum((i-j)**2 for i,j in zip(list1,list2)))\n",
        "  \n",
        "    # Метод пересчета матрицы принадлежности U\n",
        "    def distribute_data(self):\n",
        "        dist = np.array([[self.get_dist(center,data) for center in self.centroids] \\\n",
        "                 for data in self.dataset])\n",
        "        for i in range(0,self.dataset.shape[0]):\n",
        "            for j in range(0,self.n_clusters):\n",
        "                if(dist[i][j] <= 0.001):\n",
        "                    dist[i][j] = 0.001\n",
        "        self.U=(1/dist)**self.fuzzy\n",
        "        self.U = self.U/np.array([self.U.sum(axis=1)]).T\n",
        "        \n",
        "        # Перерасчет labels\n",
        "        self.labels=np.array([],dtype='i')\n",
        "        for k in range(self.dataset.shape[0]):\n",
        "            # n_clusters+1 класса (включая шум - (n_clusters) класс)\n",
        "            if (self.U[k].max() >= self.cut):\n",
        "                self.labels = np.append(self.labels, np.array(self.U[k].argmax()))\n",
        "            else:\n",
        "                self.labels = np.append(self.labels, [self.n_clusters])\n",
        "                                        \n",
        "                                        \n",
        "    # Метод пересчета центров кластеров с помощью матрицы принадлежности\n",
        "    def recalculate_centroids(self):\n",
        "        for i in range(self.n_clusters):\n",
        "            temp = np.zeros(self.dataset[0].shape)\n",
        "            temp_sum = np.zeros(self.dataset[0].shape)\n",
        "            for k.label in enumerate(self.labels):\n",
        "                if label == i:\n",
        "                    temp += self.dataset[k]* self.U[k][label]\n",
        "                    temp_sum += self.U[k][label]\n",
        "            #добавить незначительные смещения\n",
        "            self.centroids[i] = temp/temp_sum          \n",
        "      \n",
        "    # Метод возврата labels\n",
        "    def get_labels(self):\n",
        "        return self.labels\n",
        "    \n",
        "    # Метод возврата centroids\n",
        "    def get_centers(self):\n",
        "        return self.centroids\n",
        "        \n",
        "    # Метод обучения модели       \n",
        "    def fit(self):\n",
        "        iter = 0\n",
        "        while iter< self.max_n_iter:\n",
        "            prev_centroids = self.centroids.copy()\n",
        "            self.distribute_data()\n",
        "            self.recalculate_centroids\n",
        "            if np.array([self.get_dist(i,j) for i,j in zip(prev_centroids,self.centroids)]).max()\\\n",
        "            <self.tolerance:\n",
        "                print(iter)\n",
        "                break\n",
        "            i += 1\n",
        "        self.fitted = True\n",
        "     \n",
        "    # Метод предсказания меток для массива новых объектов\n",
        "    def predict(self, list2d):\n",
        "        if self.fitted == True:\n",
        "            labels=np.array([],dtype='i')\n",
        "            \n",
        "            for data in list2d:\n",
        "                dist = np.array([[self.get_dist(center,data) for center in self.centroids] \\\n",
        "                     for data in list2d])\n",
        "            \n",
        "            for i in range(len(list2d)):\n",
        "                for j in range(0,self.n_clusters):\n",
        "                    if(dist[i][j] <= 0.001):\n",
        "                        dist[i][j] = 0.001\n",
        "                        \n",
        "            U=(1/dist)**self.fuzzy\n",
        "            U = U/np.array([U.sum(axis=1)]).T\n",
        "            for k in len(list2d):\n",
        "                # n_clusters+1 класса (включая шум - (n_clusters) класс)\n",
        "                if (U[k].max() >= self.cut):\n",
        "                    labels = np.append(labels, np.array(U[k].argmax()))\n",
        "                else:\n",
        "                    labels = np.append(labels, [n_clusters])\n",
        "            return labels"
      ]
    },
    {
      "cell_type": "code",
      "execution_count": null,
      "id": "67bb74ff",
      "metadata": {
        "id": "67bb74ff"
      },
      "outputs": [],
      "source": [
        "cmeans = C_Means(dataset = points, n_clusters = 3, fuzzy = 2 , cut = 0.6)"
      ]
    },
    {
      "cell_type": "code",
      "execution_count": null,
      "id": "83e3f3b7",
      "metadata": {
        "id": "83e3f3b7",
        "outputId": "5330e32f-68e8-45c3-f4a8-f2ce55c0656c"
      },
      "outputs": [
        {
          "name": "stdout",
          "output_type": "stream",
          "text": [
            "0\n"
          ]
        }
      ],
      "source": [
        "cmeans.fit()"
      ]
    },
    {
      "cell_type": "code",
      "execution_count": null,
      "id": "b6dad0b0",
      "metadata": {
        "id": "b6dad0b0",
        "outputId": "d54f663e-c6d1-4c4c-db9b-5fa680935ef9"
      },
      "outputs": [
        {
          "data": {
            "image/png": "[encoded data removed]",
            "text/plain": [
              "<Figure size 432x288 with 1 Axes>"
            ]
          },
          "metadata": {
            "needs_background": "light"
          },
          "output_type": "display_data"
        }
      ],
      "source": [
        "plt.scatter(points[:,0],points[:,1],c=cmeans.labels,cmap=plt.cm.Paired)\n",
        "plt.scatter(cmeans.centroids[:,0],cmeans.centroids[:,1],c='black',marker='+')\n",
        "plt.show()"
      ]
    }
  ],
  "metadata": {
    "kernelspec": {
      "display_name": "Python 3 (ipykernel)",
      "language": "python",
      "name": "python3"
    },
    "language_info": {
      "codemirror_mode": {
        "name": "ipython",
        "version": 3
      },
      "file_extension": ".py",
      "mimetype": "text/x-python",
      "name": "python",
      "nbconvert_exporter": "python",
      "pygments_lexer": "ipython3",
      "version": "3.9.6"
    },
    "colab": {
      "name": "C_Means.ipynb",
      "provenance": [],
      "include_colab_link": true
    }
  },
  "nbformat": 4,
  "nbformat_minor": 5
}